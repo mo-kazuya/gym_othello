{
 "cells": [
  {
   "cell_type": "code",
   "execution_count": 1,
   "metadata": {},
   "outputs": [],
   "source": [
    "import os\n",
    "os.chdir('..')"
   ]
  },
  {
   "cell_type": "code",
   "execution_count": 2,
   "metadata": {},
   "outputs": [
    {
     "data": {
      "text/plain": [
       "<module 'gym_othello.envs' from '/work/github/gym_othello/gym_othello/envs/__init__.py'>"
      ]
     },
     "execution_count": 2,
     "metadata": {},
     "output_type": "execute_result"
    }
   ],
   "source": [
    "import importlib\n",
    "import gym_othello\n",
    "importlib.reload(gym_othello)\n",
    "\n",
    "import gym_othello.envs\n",
    "importlib.reload(gym_othello.envs)"
   ]
  },
  {
   "cell_type": "code",
   "execution_count": 3,
   "metadata": {},
   "outputs": [
    {
     "name": "stdout",
     "output_type": "stream",
     "text": [
      "{'white': 0.0, 'black': 0.0}\n",
      "{'black': 0.0, 'white': 0.0}\n",
      "{'white': 0.0, 'black': 0.0}\n",
      "{'black': 0.0, 'white': 0.0}\n",
      "{'white': 0.0, 'black': 0.0}\n",
      "{'black': 0.0, 'white': 0.0}\n",
      "{'white': 0.0, 'black': 0.0}\n",
      "{'black': 0.0, 'white': 0.0}\n",
      "{'white': 0.0, 'black': 0.0}\n",
      "{'black': 0.0, 'white': 0.0}\n",
      "{'white': 0.0, 'black': 0.0}\n",
      "{'black': 0.0, 'white': 0.0}\n",
      "{'white': 0.0, 'black': 0.0}\n",
      "{'black': 0.0, 'white': 0.0}\n",
      "{'white': 0.0, 'black': 0.0}\n",
      "{'black': 0.0, 'white': 0.0}\n",
      "{'white': 0.0, 'black': 0.0}\n",
      "{'black': 0.0, 'white': 0.0}\n",
      "{'white': 0.0, 'black': 0.0}\n",
      "{'black': 0.0, 'white': 0.0}\n",
      "{'white': 0.0, 'black': 0.0}\n",
      "{'black': 0.5, 'white': -0.5}\n",
      "{'white': 0.0, 'black': 0.0}\n",
      "{'black': 0.0, 'white': 0.0}\n",
      "{'white': 0.0, 'black': 0.0}\n",
      "{'black': 0.0, 'white': 0.0}\n",
      "{'white': 0.0, 'black': 0.0}\n",
      "{'black': 0.5, 'white': -0.5}\n",
      "{'white': 0.0, 'black': 0.0}\n",
      "{'black': 0.0, 'white': 0.0}\n",
      "{'white': 0.0, 'black': 0.0}\n",
      "{'black': 0.0, 'white': 0.0}\n",
      "{'white': 0.0, 'black': 0.0}\n",
      "{'black': 0.0, 'white': 0.0}\n",
      "{'white': 0.0, 'black': 0.0}\n",
      "{'black': 0.0, 'white': 0.0}\n",
      "{'white': 0.0, 'black': 0.0}\n",
      "{'black': 0.0, 'white': 0.0}\n",
      "{'white': 0.0, 'black': 0.0}\n",
      "{'black': 0.0, 'white': 0.0}\n",
      "{'white': 0.0, 'black': 0.0}\n",
      "{'black': 0.0, 'white': 0.0}\n",
      "{'white': 0.0, 'black': 0.0}\n",
      "{'black': 0.5, 'white': -0.5}\n",
      "{'white': 0.0, 'black': 0.0}\n",
      "{'black': 0.0, 'white': 0.0}\n",
      "{'white': 0.0, 'black': 0.0}\n",
      "{'black': 0.0, 'white': 0.0}\n",
      "{'white': 0.0, 'black': 0.0}\n",
      "{'black': 0.0, 'white': 0.0}\n",
      "{'white': 0.0, 'black': 0.0}\n",
      "{'black': 0.0, 'white': 0.0}\n",
      "{'white': 0.0, 'black': 0.0}\n",
      "{'black': 0.0, 'white': 0.0}\n",
      "{'white': 0.0, 'black': 0.0}\n",
      "{'black': 0.5, 'white': -0.5}\n",
      "{'white': 0.0, 'black': 0.0}\n",
      "{'black': 0.0, 'white': 0.0}\n",
      "{'white': 0.0, 'black': 0.0}\n",
      "{'black': 6.0, 'white': -5.0}\n"
     ]
    }
   ],
   "source": [
    "\n",
    "\n",
    "env = gym_othello.envs.OthelloEnv( render_mode='human' )\n",
    "obs,_ = env.reset()\n",
    "\n",
    "done = False\n",
    "\n",
    "rews = []\n",
    "while not done:\n",
    "    if env.current_player == \"white\":\n",
    "        action = gym_othello.envs.OthelloEnv.random_agent( obs[env.current_player] )\n",
    "    else:\n",
    "        action = gym_othello.envs.OthelloEnv.human_agent( obs[env.current_player] )\n",
    "    \n",
    "    obs, rew, d, term, info = env.step({env.current_player: action})\n",
    "    rews.append(rew)\n",
    "    print(rew)\n",
    "\n",
    "    env.render()\n",
    "    done = d['__all__']"
   ]
  },
  {
   "cell_type": "code",
   "execution_count": 4,
   "metadata": {},
   "outputs": [],
   "source": [
    "env.close()"
   ]
  },
  {
   "cell_type": "code",
   "execution_count": null,
   "metadata": {},
   "outputs": [],
   "source": []
  }
 ],
 "metadata": {
  "kernelspec": {
   "display_name": "base",
   "language": "python",
   "name": "python3"
  },
  "language_info": {
   "codemirror_mode": {
    "name": "ipython",
    "version": 3
   },
   "file_extension": ".py",
   "mimetype": "text/x-python",
   "name": "python",
   "nbconvert_exporter": "python",
   "pygments_lexer": "ipython3",
   "version": "3.12.8"
  }
 },
 "nbformat": 4,
 "nbformat_minor": 2
}
